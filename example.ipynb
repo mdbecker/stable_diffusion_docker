{
 "cells": [
  {
   "cell_type": "code",
   "execution_count": 1,
   "id": "a20fa312",
   "metadata": {},
   "outputs": [
    {
     "name": "stderr",
     "output_type": "stream",
     "text": [
      "/opt/conda/lib/python3.9/site-packages/tqdm/auto.py:22: TqdmWarning: IProgress not found. Please update jupyter and ipywidgets. See https://ipywidgets.readthedocs.io/en/stable/user_install.html\n",
      "  from .autonotebook import tqdm as notebook_tqdm\n",
      "ftfy or spacy is not installed using BERT BasicTokenizer instead of ftfy.\n",
      "50it [00:19,  2.58it/s]\n"
     ]
    }
   ],
   "source": [
    "from torch import autocast\n",
    "from diffusers import StableDiffusionPipeline, LMSDiscreteScheduler\n",
    "\n",
    "# this will substitute the default PNDM scheduler for K-LMS  \n",
    "lms = LMSDiscreteScheduler(\n",
    "    beta_start=0.00085, \n",
    "    beta_end=0.012, \n",
    "    beta_schedule=\"scaled_linear\"\n",
    ")\n",
    "pipe = StableDiffusionPipeline.from_pretrained(\n",
    "    \"/stable-diffusion/\", \n",
    "    scheduler=lms,\n",
    "    use_auth_token=True\n",
    ").to(\"cuda\")\n",
    "\n",
    "prompt = \"a photo of an astronaut riding a horse on mars\"\n",
    "with autocast(\"cuda\"):\n",
    "    image = pipe(prompt)[\"sample\"][0]  \n",
    "    \n",
    "image.save(\"/stable-diffusion/output/astronaut_rides_horse.png\")"
   ]
  },
  {
   "cell_type": "code",
   "execution_count": null,
   "id": "13c42d4d",
   "metadata": {},
   "outputs": [],
   "source": []
  }
 ],
 "metadata": {
  "kernelspec": {
   "display_name": "Python 3 (ipykernel)",
   "language": "python",
   "name": "python3"
  },
  "language_info": {
   "codemirror_mode": {
    "name": "ipython",
    "version": 3
   },
   "file_extension": ".py",
   "mimetype": "text/x-python",
   "name": "python",
   "nbconvert_exporter": "python",
   "pygments_lexer": "ipython3",
   "version": "3.9.10"
  }
 },
 "nbformat": 4,
 "nbformat_minor": 5
}
